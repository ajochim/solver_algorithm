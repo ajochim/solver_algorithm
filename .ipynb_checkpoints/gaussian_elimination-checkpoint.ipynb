{
 "cells": [
  {
   "cell_type": "markdown",
   "metadata": {},
   "source": [
    "# Gaussian Elimination (3x3)"
   ]
  },
  {
   "cell_type": "code",
   "execution_count": 13,
   "metadata": {},
   "outputs": [
    {
     "name": "stdout",
     "output_type": "stream",
     "text": [
      "[[ 1.          2.          2.          0.5       ]\n",
      " [-0.          1.          1.33333333 -0.25      ]\n",
      " [-0.         -0.          1.         -0.5       ]]\n"
     ]
    }
   ],
   "source": [
    "import numpy as np\n",
    "\n",
    "aa = np.array([[2.0, 4.0, 4.0], [5.0, 4.0, 2.0], [1.0, 2.0, -1.0]])\n",
    "bb = np.array([1.0, 4.0, 2.0])\n",
    "aa_rows = aa.shape[0]\n",
    "bb_rows = aa_rows\n",
    "aa_columns = aa.shape[1]\n",
    "\n",
    "# Transformation to the lower-triangular-shape form:\n",
    "coeff = aa[0, 0]\n",
    "bb[0] = bb[0] / coeff\n",
    "for jj in range(0, aa_columns, 1):\n",
    "    aa[0, jj] = aa[0, jj] / coeff\n",
    "    \n",
    "for ii in range(1, aa_rows, 1):\n",
    "    coeff = aa[ii, 0]\n",
    "    bb[ii] = bb[ii] - coeff * bb[0]\n",
    "    \n",
    "    for jj in range(0, aa_columns, 1):\n",
    "        aa[ii, jj] = aa[ii, jj] - coeff * aa[0, jj]\n",
    "\n",
    "coeff = aa[1, 1]\n",
    "bb[1] = bb[1] / coeff\n",
    "for jj in range(0, aa_columns, 1):\n",
    "    aa[1, jj] = aa[1, jj] / coeff   \n",
    "    \n",
    "for ii in range(2, aa_rows, 1):\n",
    "    coeff = aa[ii, 1]\n",
    "    bb[ii] = bb[ii] - coeff * bb[1]\n",
    "    \n",
    "    for jj in range(1, aa_columns, 1):\n",
    "        aa[ii, jj] = aa[ii, jj] - coeff * aa[1, jj]\n",
    "        \n",
    "coeff = aa[2, 2]\n",
    "bb[2] = bb[2] / coeff\n",
    "for jj in range(0, aa_columns, 1):\n",
    "    aa[2, jj] = aa[2, jj] / coeff   \n",
    "\n",
    "    \n",
    "bb_shape = bb.reshape((-1,1))\n",
    "xx = np.hstack([aa,bb_shape])\n",
    "print(xx)"
   ]
  },
  {
   "cell_type": "markdown",
   "metadata": {},
   "source": [
    "# Gaussian Elimination"
   ]
  },
  {
   "cell_type": "code",
   "execution_count": 145,
   "metadata": {},
   "outputs": [
    {
     "name": "stdout",
     "output_type": "stream",
     "text": [
      "matrix aa:\n",
      " [[ 2.  4.  4.]\n",
      " [ 1.  2. -1.]\n",
      " [ 5.  4.  2.]]\n",
      "\n",
      "matrix bb:\n",
      " [1. 2. 4.] \n",
      "\n",
      "lower-triangular-shape form:\n",
      " [[ 1.          2.          2.          0.5       ]\n",
      " [-0.          1.          1.33333333 -0.25      ]\n",
      " [-0.         -0.          1.         -0.5       ]]\n",
      "\n",
      "final form:\n",
      " [[ 1.          0.          0.          0.66666667]\n",
      " [ 0.          1.          0.          0.41666667]\n",
      " [-0.         -0.          1.         -0.5       ]]\n",
      "\n",
      "numpy solution:\n",
      " [ 0.66666667  0.41666667 -0.5       ]\n"
     ]
    }
   ],
   "source": [
    "import numpy as np\n",
    "\n",
    "def gaussian_eliminate(aa, bb):\n",
    "    aa_rows = aa.shape[0]\n",
    "    bb_rows = aa_rows\n",
    "    aa_columns = aa.shape[1]\n",
    "    \n",
    "    #Test for linear dependency:\n",
    "    det = np.linalg.det(aa)\n",
    "    if abs(det) > 5*10**(-13):    \n",
    "    \n",
    "        #Transformation to the lower-triangular-shape form:\n",
    "        for ii in range(0, aa_rows, 1):\n",
    "            for jj in range(ii + 1, aa_columns, 1):\n",
    "                if aa[ii, ii] != 0:\n",
    "                    var = (aa[jj, ii] / aa[ii, ii])\n",
    "                    aa[jj, ii:] = aa[jj, ii:] - var * aa[ii, ii:]\n",
    "                    bb[jj] = bb[jj] - var * bb[ii]\n",
    "                elif aa[ii, ii] == 0:\n",
    "                    switch_var = np.array(aa[ii, :])\n",
    "                    aa[ii, :] = aa[jj, :]\n",
    "                    aa[jj, :] = switch_var\n",
    "    \n",
    "        #Stack aa and bb to one matrix:\n",
    "        bb_shape = bb.reshape((-1,1))\n",
    "        sol = np.hstack([aa, bb_shape])\n",
    "    \n",
    "        for ii in range(0, aa_rows, 1):\n",
    "            sol[ii, :] = sol[ii, :] / sol[ii, ii]\n",
    "   \n",
    "        print(\"lower-triangular-shape form:\\n\", sol)\n",
    "    \n",
    "        #Transformation to the final form:        \n",
    "        for ii in range(0, aa_rows, 1):\n",
    "            for kk in range(ii + 1, aa_columns, 1):\n",
    "                sol[ii, :] = sol[ii, :] - sol[ii, kk] * sol[kk, :]\n",
    "                \n",
    "    else:\n",
    "        print(\"linear dependency detected!\")\n",
    "        sol = None\n",
    "    \n",
    "    print(\"\\nfinal form:\\n\", sol)\n",
    "    \n",
    "    return sol\n",
    "\n",
    "#aa = np.array([[2.0, 4.0, 4.0], [5.0, 4.0, 2.0], [1.0, 2.0, -1.0]])\n",
    "#bb = np.array([1.0, 4.0, 2.0])\n",
    "#aa = np.array([[2.0, 4.0, 4.0], [1.0, 2.0, -1.0], [5.0, 4.0, 2.0]])\n",
    "#bb = np.array([1.0, 2.0, 4.0])\n",
    "#aa = np.array([[1.0, 2.0, 3.0], [4.0, 5.0, 6.0], [7.0, 8.0, 9.0]])\n",
    "#bb = np.array([1.0, 2.0, 3.0])\n",
    "\n",
    "#Read matrices from file \"input.in\":\n",
    "file = open(\"input.in\", \"r\")\n",
    "lines = file.readlines()\n",
    "#print(\"number of lines read:\\n\",lines)\n",
    "numberOfVars = int(lines[0].strip())\n",
    "aa = np.empty((numberOfVars, numberOfVars))\n",
    "bb_ma = np.empty((1,numberOfVars))\n",
    "#print(\"number of variables:\\n\", numberOfVars)\n",
    "\n",
    "#Fill Matrix bb_ma with Numbers from input.in:\n",
    "lines_bb = lines[4].strip().split()\n",
    "for jj in range(0, numberOfVars, 1):\n",
    "        bb_ma[0, jj] = float(lines_bb[jj])\n",
    "bb = bb_ma[0, :]\n",
    "\n",
    "#Fill Matrix aa with Numbers from input.in:\n",
    "for ii in range(1, numberOfVars +1, 1):\n",
    "    for jj in range(0, numberOfVars, 1):\n",
    "        aa[ii -1, jj] = float(lines[ii].strip().split()[jj])\n",
    "\n",
    "print(\"matrix aa:\\n\", aa)\n",
    "print(\"\\nmatrix bb:\\n\", bb, \"\\n\")\n",
    "\n",
    "sol = gaussian_eliminate(aa, bb)\n",
    "#print(sol)\n",
    "\n",
    "sol_numpy = np.linalg.solve(aa, bb)\n",
    "print(\"\\nnumpy solution:\\n\", sol_numpy)"
   ]
  },
  {
   "cell_type": "markdown",
   "metadata": {
    "collapsed": true
   },
   "source": [
    "### Read matrix from file"
   ]
  },
  {
   "cell_type": "code",
   "execution_count": 143,
   "metadata": {},
   "outputs": [
    {
     "name": "stdout",
     "output_type": "stream",
     "text": [
      "matrix aa:\n",
      " [[ 2.  4.  4.]\n",
      " [ 1.  2. -1.]\n",
      " [ 5.  4.  2.]]\n",
      "\n",
      "matrix bb:\n",
      " [1. 2. 4.]\n"
     ]
    }
   ],
   "source": [
    "import numpy as np\n",
    "\n",
    "file = open(\"input.in\", \"r\")\n",
    "lines = file.readlines()\n",
    "#print(\"number of lines read:\\n\",lines)\n",
    "numberOfVars = int(lines[0].strip())\n",
    "aa = np.empty((numberOfVars, numberOfVars))\n",
    "bb_ma = np.empty((1,numberOfVars))\n",
    "#print(\"number of variables:\\n\", numberOfVars)\n",
    "\n",
    "#Fill Matrix bb_ma with Numbers from input.in:\n",
    "lines_bb = lines[4].strip().split()\n",
    "for jj in range(0, numberOfVars, 1):\n",
    "        bb_ma[0, jj] = float(lines_bb[jj])\n",
    "bb = bb_ma[0, :]\n",
    "\n",
    "#Fill Matrix aa with Numbers from input.in:\n",
    "for ii in range(1, numberOfVars +1, 1):\n",
    "    for jj in range(0, numberOfVars, 1):\n",
    "        aa[ii -1, jj] = float(lines[ii].strip().split()[jj])\n",
    "\n",
    "print(\"matrix aa:\\n\", aa)\n",
    "print(\"\\nmatrix bb:\\n\", bb)"
   ]
  },
  {
   "cell_type": "code",
   "execution_count": null,
   "metadata": {},
   "outputs": [],
   "source": []
  }
 ],
 "metadata": {
  "kernelspec": {
   "display_name": "Python 3",
   "language": "python",
   "name": "python3"
  },
  "language_info": {
   "codemirror_mode": {
    "name": "ipython",
    "version": 3
   },
   "file_extension": ".py",
   "mimetype": "text/x-python",
   "name": "python",
   "nbconvert_exporter": "python",
   "pygments_lexer": "ipython3",
   "version": "3.6.4"
  }
 },
 "nbformat": 4,
 "nbformat_minor": 2
}
